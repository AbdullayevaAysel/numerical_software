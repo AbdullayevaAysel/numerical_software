{
  "nbformat": 4,
  "nbformat_minor": 0,
  "metadata": {
    "colab": {
      "provenance": []
    },
    "kernelspec": {
      "name": "python3",
      "display_name": "Python 3"
    },
    "language_info": {
      "name": "python"
    }
  },
  "cells": [
    {
      "cell_type": "code",
      "execution_count": 2,
      "metadata": {
        "id": "aXXR2oSM2BZz"
      },
      "outputs": [],
      "source": [
        "import numpy as np\n",
        "import matplotlib.pyplot as plt"
      ]
    },
    {
      "cell_type": "code",
      "source": [
        "def func(x):\n",
        "  s = 2*x\n",
        "  return (s)"
      ],
      "metadata": {
        "id": "vSQpmSSg2ICt"
      },
      "execution_count": 3,
      "outputs": []
    },
    {
      "cell_type": "code",
      "source": [
        "a_serhed = 2\n",
        "b_serhed = 4\n",
        "h=0.01\n",
        "x = np.arange(a_serhed, b_serhed, h)"
      ],
      "metadata": {
        "id": "7tPKX1bx2SNN"
      },
      "execution_count": 4,
      "outputs": []
    },
    {
      "cell_type": "code",
      "source": [
        "def integral(a, b, h):\n",
        "  x = np.arange(a, b, h)\n",
        "  s = ((b-a)/len(x)) * np.sum(func(x))\n",
        "  return(s)"
      ],
      "metadata": {
        "id": "h9BWR9ZWAWLP"
      },
      "execution_count": 5,
      "outputs": []
    },
    {
      "cell_type": "code",
      "source": [
        "a_serhed = 2\n",
        "b_serhed = 4\n",
        "h=0.0001"
      ],
      "metadata": {
        "id": "FkDHp6jkbIMT"
      },
      "execution_count": 6,
      "outputs": []
    },
    {
      "cell_type": "code",
      "source": [
        "cavab = integral(a_serhed, b_serhed, h)"
      ],
      "metadata": {
        "id": "3WfD3lJ6AXV8"
      },
      "execution_count": 7,
      "outputs": []
    },
    {
      "cell_type": "code",
      "source": [
        "cavab"
      ],
      "metadata": {
        "colab": {
          "base_uri": "https://localhost:8080/"
        },
        "id": "Dz2GlIxXBccf",
        "outputId": "cd8a9535-ebb1-410b-e4db-f29aba248b85"
      },
      "execution_count": 8,
      "outputs": [
        {
          "output_type": "execute_result",
          "data": {
            "text/plain": [
              "11.999800000008442"
            ]
          },
          "metadata": {},
          "execution_count": 8
        }
      ]
    },
    {
      "cell_type": "code",
      "source": [
        "def func(x):\n",
        "  s = 2*x*3**(np.sqrt(x))\n",
        "  return (s)"
      ],
      "metadata": {
        "id": "veMvCXLEBdUG"
      },
      "execution_count": 9,
      "outputs": []
    },
    {
      "cell_type": "code",
      "source": [
        "a_serhed = 2\n",
        "b_serhed = 4\n",
        "h=0.0000001\n",
        "x = np.arange(a_serhed, b_serhed, h)"
      ],
      "metadata": {
        "id": "9mxoLUi4catP"
      },
      "execution_count": 10,
      "outputs": []
    },
    {
      "cell_type": "code",
      "source": [
        "cavab = integral(a_serhed, b_serhed, h)\n",
        "cavab"
      ],
      "metadata": {
        "colab": {
          "base_uri": "https://localhost:8080/"
        },
        "id": "FGPHPI65cxUy",
        "outputId": "7e931018-70cc-4cfc-bcb9-c94bbaa8ba3d"
      },
      "execution_count": 11,
      "outputs": [
        {
          "output_type": "execute_result",
          "data": {
            "text/plain": [
              "83.94103282746475"
            ]
          },
          "metadata": {},
          "execution_count": 11
        }
      ]
    },
    {
      "cell_type": "code",
      "source": [
        "plt.plot(x, func(x))"
      ],
      "metadata": {
        "colab": {
          "base_uri": "https://localhost:8080/",
          "height": 282
        },
        "id": "gyO9MTZLcXLy",
        "outputId": "43aa6be6-746f-4c4d-bf33-2752e660c43e"
      },
      "execution_count": 12,
      "outputs": [
        {
          "output_type": "execute_result",
          "data": {
            "text/plain": [
              "[<matplotlib.lines.Line2D at 0x7ff6f4112550>]"
            ]
          },
          "metadata": {},
          "execution_count": 12
        },
        {
          "output_type": "display_data",
          "data": {
            "text/plain": [
              "<Figure size 432x288 with 1 Axes>"
            ],
            "image/png": "[encoded data removed]"
          },
          "metadata": {
            "needs_background": "light"
          }
        }
      ]
    },
    {
      "cell_type": "code",
      "source": [
        "def func(x):\n",
        "  s = (3**x)/x\n",
        "  return (s)\n",
        "\n",
        "a_serhed = -5\n",
        "b_serhed = 6\n",
        "h=0.000001\n",
        "x = np.arange(a_serhed, b_serhed, h)"
      ],
      "metadata": {
        "id": "8bkMgaLQcfpW"
      },
      "execution_count": 14,
      "outputs": []
    },
    {
      "cell_type": "code",
      "source": [
        "cavab = integral(a_serhed, b_serhed, h)\n",
        "cavab"
      ],
      "metadata": {
        "colab": {
          "base_uri": "https://localhost:8080/"
        },
        "id": "VuVih6yheQyB",
        "outputId": "397958f4-0244-43c0-a70a-f1a9226500e1"
      },
      "execution_count": 15,
      "outputs": [
        {
          "output_type": "execute_result",
          "data": {
            "text/plain": [
              "1568.3408624881256"
            ]
          },
          "metadata": {},
          "execution_count": 15
        }
      ]
    },
    {
      "cell_type": "code",
      "source": [],
      "metadata": {
        "id": "tzZLKkK_eXVA"
      },
      "execution_count": null,
      "outputs": []
    }
  ]
}