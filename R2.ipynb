{
  "nbformat": 4,
  "nbformat_minor": 0,
  "metadata": {
    "colab": {
      "provenance": []
    },
    "kernelspec": {
      "name": "python3",
      "display_name": "Python 3"
    },
    "language_info": {
      "name": "python"
    }
  },
  "cells": [
    {
      "cell_type": "code",
      "execution_count": 1,
      "metadata": {
        "id": "qbcL-_S3X8-n"
      },
      "outputs": [],
      "source": [
        "import numpy as np\n",
        "from numpy import linalg\n",
        "import matplotlib.pyplot as plt"
      ]
    },
    {
      "cell_type": "code",
      "source": [
        "x=np.array([0,1,2,3,4,5,6,7,8,9])\n",
        "y=np.array([2,4,0,3,7,12,11,15,19,21])"
      ],
      "metadata": {
        "id": "xna_vw7RdpGG"
      },
      "execution_count": 2,
      "outputs": []
    },
    {
      "cell_type": "code",
      "source": [
        "k = np.sum((x-np.mean(x))*(y-np.mean(y)))/np.sum((x-np.mean(x))**2)\n",
        "b = np.mean(y) - k*np.mean(x)\n",
        "y_hesablanmis = k*x + b\n",
        "def regressiya (x, y):\n",
        "  k = np.sum((x-np.mean(x))*(y-np.mean(y)))/np.sum((x-np.mean(x))**2)\n",
        "  b = np.mean(y) - k*np.mean(x)\n",
        "  y_hesablanmis = k*x + b\n",
        "\n",
        "  return(np.array([x, y_hesablanmis]))\n",
        "cavab = regressiya (x, y)\n",
        "sehvler = np.sum((y-cavab[1, :])**2)\n",
        "sehvler\n",
        "kvadratların_ümumi_cəmi = np.sum((y - np.mean(y))**2)\n",
        "R2 = 1- sehvler/kvadratların_ümumi_cəmi\n",
        "R2"
      ],
      "metadata": {
        "colab": {
          "base_uri": "https://localhost:8080/"
        },
        "id": "EQBRa-ykdyyi",
        "outputId": "acd941bf-9c7a-4b8c-a055-807b991e4720"
      },
      "execution_count": 3,
      "outputs": [
        {
          "output_type": "execute_result",
          "data": {
            "text/plain": [
              "0.8996212121212122"
            ]
          },
          "metadata": {},
          "execution_count": 3
        }
      ]
    },
    {
      "cell_type": "code",
      "source": [],
      "metadata": {
        "id": "mOjelbSSd4id"
      },
      "execution_count": null,
      "outputs": []
    }
  ]
}