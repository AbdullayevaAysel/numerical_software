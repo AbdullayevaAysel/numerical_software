{
  "nbformat": 4,
  "nbformat_minor": 0,
  "metadata": {
    "colab": {
      "provenance": []
    },
    "kernelspec": {
      "name": "python3",
      "display_name": "Python 3"
    },
    "language_info": {
      "name": "python"
    }
  },
  "cells": [
    {
      "cell_type": "code",
      "execution_count": 1,
      "metadata": {
        "id": "LFQevDhQX25t"
      },
      "outputs": [],
      "source": [
        "import numpy as np\n",
        "import matplotlib.pyplot as plt\n",
        "import math\n",
        "import seaborn as sns"
      ]
    },
    {
      "cell_type": "code",
      "source": [
        "def func(x):\n",
        "  return x*np.exp(x)+(2**x)/x\n",
        "h = 0.001; min_q = 1; max_q = 6\n",
        "x = np.arange(min_q, max_q, h)"
      ],
      "metadata": {
        "id": "R8SafjzHeWrT"
      },
      "execution_count": 2,
      "outputs": []
    },
    {
      "cell_type": "code",
      "source": [
        "def diff_nogtede(f, x, h):\n",
        "    derivative = (f(x + h) - f(x))/h\n",
        "    return derivative\n",
        "\n",
        "plt.plot(x,diff_nogtede(func, x, h))\n",
        "diff_nogtede(func, 2.6, h)"
      ],
      "metadata": {
        "colab": {
          "base_uri": "https://localhost:8080/",
          "height": 282
        },
        "id": "Bblq19pNeXq3",
        "outputId": "805e5dbe-436f-4ab0-ab74-7b72a2c305fa"
      },
      "execution_count": 3,
      "outputs": [
        {
          "output_type": "execute_result",
          "data": {
            "text/plain": [
              "49.220176122325654"
            ]
          },
          "metadata": {},
          "execution_count": 3
        },
        {
          "output_type": "display_data",
          "data": {
            "text/plain": [
              "<Figure size 432x288 with 1 Axes>"
            ],
            "image/png": "[encoded data removed]"
          },
          "metadata": {
            "needs_background": "light"
          }
        }
      ]
    },
    {
      "cell_type": "code",
      "source": [],
      "metadata": {
        "id": "QJfRN7xueeCp"
      },
      "execution_count": null,
      "outputs": []
    }
  ]
}