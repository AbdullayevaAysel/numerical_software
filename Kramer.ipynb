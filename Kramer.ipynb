{
  "nbformat": 4,
  "nbformat_minor": 0,
  "metadata": {
    "colab": {
      "provenance": []
    },
    "kernelspec": {
      "name": "python3",
      "display_name": "Python 3"
    },
    "language_info": {
      "name": "python"
    }
  },
  "cells": [
    {
      "cell_type": "code",
      "execution_count": 31,
      "metadata": {
        "id": "tDCt93CfTBLF"
      },
      "outputs": [],
      "source": [
        "import numpy as np\n",
        "from numpy import linalg\n",
        "import matplotlib.pyplot as plt"
      ]
    },
    {
      "cell_type": "code",
      "source": [
        "a = np.array([[2, 1], [0, -2]])\n",
        "print(a)"
      ],
      "metadata": {
        "colab": {
          "base_uri": "https://localhost:8080/"
        },
        "id": "rV2K-ZxQUVGW",
        "outputId": "de6076c4-2500-4a70-c85a-47b8c3627a06"
      },
      "execution_count": 2,
      "outputs": [
        {
          "output_type": "stream",
          "name": "stdout",
          "text": [
            "[[ 2  1]\n",
            " [ 0 -2]]\n"
          ]
        }
      ]
    },
    {
      "cell_type": "code",
      "source": [
        "np.linalg.det(a)"
      ],
      "metadata": {
        "colab": {
          "base_uri": "https://localhost:8080/"
        },
        "id": "3xBhYH77UwsQ",
        "outputId": "951323d7-9620-4dac-df64-96a50ac769d3"
      },
      "execution_count": 5,
      "outputs": [
        {
          "output_type": "execute_result",
          "data": {
            "text/plain": [
              "-4.0"
            ]
          },
          "metadata": {},
          "execution_count": 5
        }
      ]
    },
    {
      "cell_type": "code",
      "source": [
        "b = np.array([[1, 2, 0], [-1, 2, 0], [2, -3, 4]])\n",
        "np.linalg.det(b)"
      ],
      "metadata": {
        "colab": {
          "base_uri": "https://localhost:8080/"
        },
        "id": "IvT7ol0nU1Ep",
        "outputId": "d9cd07c5-f3f3-4f80-83f4-8b6fce998f63"
      },
      "execution_count": 10,
      "outputs": [
        {
          "output_type": "execute_result",
          "data": {
            "text/plain": [
              "16.000000000000007"
            ]
          },
          "metadata": {},
          "execution_count": 10
        }
      ]
    },
    {
      "cell_type": "code",
      "source": [
        "random_1 = np.random.randint(3, size=(10, 10))\n",
        "random_2 = np.random.randint(3, size=(10, 10))"
      ],
      "metadata": {
        "id": "n2lDKp47WDvH"
      },
      "execution_count": 28,
      "outputs": []
    },
    {
      "cell_type": "code",
      "source": [
        "c = np.linalg.det(random_1) - np.linalg.det(random_2)"
      ],
      "metadata": {
        "id": "VfeXjX57WzLt"
      },
      "execution_count": 29,
      "outputs": []
    },
    {
      "cell_type": "code",
      "source": [
        "c"
      ],
      "metadata": {
        "colab": {
          "base_uri": "https://localhost:8080/"
        },
        "id": "Sk9IABPBWuRD",
        "outputId": "a60166cd-399d-44b7-bf05-3b903b989536"
      },
      "execution_count": 30,
      "outputs": [
        {
          "output_type": "execute_result",
          "data": {
            "text/plain": [
              "204.99999999999963"
            ]
          },
          "metadata": {},
          "execution_count": 30
        }
      ]
    },
    {
      "cell_type": "code",
      "source": [
        "qiymetler = []\n",
        "for i in range(10):\n",
        "  random_1 = np.random.randint(3, size=(10, 10))\n",
        "  random_2 = np.random.randint(3, size=(10, 10))\n",
        "  ferq = np.linalg.det(random_1) - np.linalg.det(random_2)\n",
        "  qiymetler.append(ferq)"
      ],
      "metadata": {
        "id": "-Sqo5tpfXHlr"
      },
      "execution_count": 33,
      "outputs": []
    },
    {
      "cell_type": "code",
      "source": [
        "plt.plot(qiymetler)\n",
        "plt.ylabel('qiymetler')\n",
        "plt.xlabel(\"iterasiyalarin sayi\")"
      ],
      "metadata": {
        "colab": {
          "base_uri": "https://localhost:8080/",
          "height": 296
        },
        "id": "UijCguTgXx4E",
        "outputId": "195b502b-d6c6-4ae9-c869-903ec74ba049"
      },
      "execution_count": 34,
      "outputs": [
        {
          "output_type": "execute_result",
          "data": {
            "text/plain": [
              "Text(0.5, 0, 'iterasiyalarin sayi')"
            ]
          },
          "metadata": {},
          "execution_count": 34
        },
        {
          "output_type": "display_data",
          "data": {
            "text/plain": [
              "<Figure size 432x288 with 1 Axes>"
            ],
            "image/png": "[encoded data removed]"
          },
          "metadata": {
            "needs_background": "light"
          }
        }
      ]
    },
    {
      "cell_type": "code",
      "source": [
        "qiymetler"
      ],
      "metadata": {
        "colab": {
          "base_uri": "https://localhost:8080/"
        },
        "id": "TuNp0JEuZSIp",
        "outputId": "a489b13f-2037-4b27-a14e-f377655bd468"
      },
      "execution_count": 35,
      "outputs": [
        {
          "output_type": "execute_result",
          "data": {
            "text/plain": [
              "[-108.00000000000006,\n",
              " -13.000000000000028,\n",
              " 634.9999999999998,\n",
              " 85.99999999999966,\n",
              " 607.9999999999997,\n",
              " -526.9999999999995,\n",
              " -4177.999999999996,\n",
              " 386.0000000000003,\n",
              " -1265.0000000000014,\n",
              " 316.00000000000057]"
            ]
          },
          "metadata": {},
          "execution_count": 35
        }
      ]
    },
    {
      "cell_type": "code",
      "source": [
        "#KRAMER"
      ],
      "metadata": {
        "id": "KL08RTmgZfrd"
      },
      "execution_count": 36,
      "outputs": []
    },
    {
      "cell_type": "code",
      "source": [
        "esas_matrisa = np.array([[2, 3], [4, 2]])\n",
        "matrisa_1 = np.array([[-2, 3], [7, 2]])\n",
        "matrisa_2 = np.array([[2, -2], [4, 7]])"
      ],
      "metadata": {
        "id": "XJlViF9MaGqA"
      },
      "execution_count": 37,
      "outputs": []
    },
    {
      "cell_type": "code",
      "source": [
        "detA = np.linalg.det(esas_matrisa)\n",
        "detA1 = np.linalg.det(matrisa_1)\n",
        "detA2 = np.linalg.det(matrisa_2)"
      ],
      "metadata": {
        "id": "avT3paLBbQcL"
      },
      "execution_count": 38,
      "outputs": []
    },
    {
      "cell_type": "code",
      "source": [
        "x = detA1/detA\n",
        "y = detA2/detA"
      ],
      "metadata": {
        "id": "1iFGQtbRbv88"
      },
      "execution_count": 39,
      "outputs": []
    },
    {
      "cell_type": "code",
      "source": [
        "x, y"
      ],
      "metadata": {
        "colab": {
          "base_uri": "https://localhost:8080/"
        },
        "id": "hDTcA1Zkb4Qu",
        "outputId": "5771d159-f81f-41c4-fff7-5994a88ce150"
      },
      "execution_count": 40,
      "outputs": [
        {
          "output_type": "execute_result",
          "data": {
            "text/plain": [
              "(3.1250000000000004, -2.750000000000001)"
            ]
          },
          "metadata": {},
          "execution_count": 40
        }
      ]
    },
    {
      "cell_type": "code",
      "source": [
        "2*x + 3*y"
      ],
      "metadata": {
        "colab": {
          "base_uri": "https://localhost:8080/"
        },
        "id": "tW4y8_p5b6B_",
        "outputId": "918d933e-bffb-4db5-a915-bf6b8ca82b1e"
      },
      "execution_count": 41,
      "outputs": [
        {
          "output_type": "execute_result",
          "data": {
            "text/plain": [
              "-2.0000000000000027"
            ]
          },
          "metadata": {},
          "execution_count": 41
        }
      ]
    },
    {
      "cell_type": "code",
      "source": [
        "# misal 2\n"
      ],
      "metadata": {
        "id": "PPMzWVhicIXH"
      },
      "execution_count": 42,
      "outputs": []
    },
    {
      "cell_type": "code",
      "source": [
        "a = x + 2*y + t\n",
        "b = 3*x - 4*y +2*z -4*t\n",
        "c = y - 3*z + t\n",
        "d = x - 3*z + 2*t"
      ],
      "metadata": {
        "id": "78ZHAawfgkci"
      },
      "execution_count": null,
      "outputs": []
    },
    {
      "cell_type": "code",
      "source": [
        "A = np.array([[1, 2, 0, 1], [3, -4, 2, -4], [0, 1, -3, 1], [1, 0, -3, 2]])\n",
        "A1 = np.array([[-2, 2, 0, 1], [5, -4, 2, -4], [7, 1, -3, 1], [6, 0, -3, 2]])\n",
        "A2 = np.array([[1, -2, 0, 1], [3, 5, 2, -4], [0, 7, -3, 1], [1, 6, -3, 2]])\n",
        "A3 = np.array([[1, 2, -2, 1], [3, -4, 5, -4], [0, 1, 7, 1], [1, 0, 6, 2]])\n",
        "A4 = np.array([[1, 2, 0, -2], [3, -4, 2, 5], [0, 1, -3, 7], [1, 0, -3, 6]])"
      ],
      "metadata": {
        "id": "UTtJvLzNfoLI"
      },
      "execution_count": 46,
      "outputs": []
    },
    {
      "cell_type": "code",
      "source": [
        "detA = np.linalg.det(A)\n",
        "detA1 = np.linalg.det(A1)\n",
        "detA2 = np.linalg.det(A2)\n",
        "detA3 = np.linalg.det(A3)\n",
        "detA4 = np.linalg.det(A4)"
      ],
      "metadata": {
        "id": "EFjmRHg1kFLw"
      },
      "execution_count": 48,
      "outputs": []
    },
    {
      "cell_type": "code",
      "source": [
        "x = detA1/detA\n",
        "y = detA2/detA\n",
        "z = detA3/detA\n",
        "t = detA4/detA"
      ],
      "metadata": {
        "id": "__PlAN-TkSAt"
      },
      "execution_count": 50,
      "outputs": []
    },
    {
      "cell_type": "code",
      "source": [
        "a = x + 2*y + t\n",
        "b = 3*x - 4*y +2*z -4*t\n",
        "c = y - 3*z + t\n",
        "d = x - 3*z + 2*t"
      ],
      "metadata": {
        "id": "8JoTp1G8khLO"
      },
      "execution_count": 51,
      "outputs": []
    },
    {
      "cell_type": "code",
      "source": [
        "a, b, c, d"
      ],
      "metadata": {
        "colab": {
          "base_uri": "https://localhost:8080/"
        },
        "id": "g22cuyKWkqo1",
        "outputId": "876a1786-4b2b-4859-9a31-f790ba3a9b18"
      },
      "execution_count": 52,
      "outputs": [
        {
          "output_type": "execute_result",
          "data": {
            "text/plain": [
              "(-2.0000000000000013, 4.999999999999996, 7.000000000000004, 6.0000000000000036)"
            ]
          },
          "metadata": {},
          "execution_count": 52
        }
      ]
    },
    {
      "cell_type": "code",
      "source": [
        "x, y, z, t"
      ],
      "metadata": {
        "colab": {
          "base_uri": "https://localhost:8080/"
        },
        "id": "mIkSeTRlkuTN",
        "outputId": "ba85809f-3c2f-4a43-8be4-7da49b720234"
      },
      "execution_count": 53,
      "outputs": [
        {
          "output_type": "execute_result",
          "data": {
            "text/plain": [
              "(0.6491228070175431,\n",
              " -0.33333333333333354,\n",
              " -3.1052631578947385,\n",
              " -1.9824561403508774)"
            ]
          },
          "metadata": {},
          "execution_count": 53
        }
      ]
    }
  ]
}