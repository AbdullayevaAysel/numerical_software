{
  "nbformat": 4,
  "nbformat_minor": 0,
  "metadata": {
    "colab": {
      "provenance": []
    },
    "kernelspec": {
      "name": "python3",
      "display_name": "Python 3"
    },
    "language_info": {
      "name": "python"
    }
  },
  "cells": [
    {
      "cell_type": "code",
      "execution_count": 1,
      "metadata": {
        "id": "RxfDfWsuNkJk"
      },
      "outputs": [],
      "source": [
        "import numpy as np\n",
        "import matplotlib.pyplot as plt"
      ]
    },
    {
      "cell_type": "code",
      "source": [
        "def func(x):\n",
        "  a=np.exp(x-1)+x**2\n",
        "  return a"
      ],
      "metadata": {
        "id": "aB-HTMhyNzUc"
      },
      "execution_count": 2,
      "outputs": []
    },
    {
      "cell_type": "code",
      "source": [
        "h=0.5\n",
        "min_q=1\n",
        "max_q=12\n",
        "x=np.arange(min_q,max_q,h)"
      ],
      "metadata": {
        "id": "ejwOWa4GOJmC"
      },
      "execution_count": 3,
      "outputs": []
    },
    {
      "cell_type": "code",
      "source": [
        "def diff(f,x,h):\n",
        "    derivative=(f(x+h)-f(x))/h\n",
        "    return derivative"
      ],
      "metadata": {
        "id": "lx4n---UOchO"
      },
      "execution_count": 4,
      "outputs": []
    },
    {
      "cell_type": "code",
      "source": [
        "cavab=diff(func,x,h)"
      ],
      "metadata": {
        "id": "h4Oh1vwuOwmi"
      },
      "execution_count": 5,
      "outputs": []
    },
    {
      "cell_type": "code",
      "source": [
        "cavab"
      ],
      "metadata": {
        "colab": {
          "base_uri": "https://localhost:8080/"
        },
        "id": "9v-KFe3HO7xL",
        "outputId": "a47be921-a98a-4906-912e-2791f6f341c1"
      },
      "execution_count": 6,
      "outputs": [
        {
          "output_type": "execute_result",
          "data": {
            "text/plain": [
              "array([3.79744254e+00, 5.63912112e+00, 8.02681448e+00, 1.13147341e+01,\n",
              "       1.60868757e+01, 2.33060859e+01, 3.45598301e+01, 5.24653961e+01,\n",
              "       8.13379625e+01, 1.28292056e+02, 2.05057546e+02, 3.30973722e+02,\n",
              "       5.37925679e+02, 8.78483051e+02, 1.43931851e+03, 2.36333115e+03,\n",
              "       3.88612171e+03, 6.39613017e+03, 1.05337858e+04, 1.73549779e+04,\n",
              "       2.86005738e+04, 4.71407781e+04])"
            ]
          },
          "metadata": {},
          "execution_count": 6
        }
      ]
    },
    {
      "cell_type": "code",
      "source": [
        "np.min(cavab)"
      ],
      "metadata": {
        "colab": {
          "base_uri": "https://localhost:8080/"
        },
        "id": "R1PC21f_O-D8",
        "outputId": "29ca193b-644c-4869-f523-8545732a36c9"
      },
      "execution_count": 7,
      "outputs": [
        {
          "output_type": "execute_result",
          "data": {
            "text/plain": [
              "3.7974425414002564"
            ]
          },
          "metadata": {},
          "execution_count": 7
        }
      ]
    },
    {
      "cell_type": "code",
      "source": [
        "np.max(cavab)"
      ],
      "metadata": {
        "colab": {
          "base_uri": "https://localhost:8080/"
        },
        "id": "loOMLESHPGMX",
        "outputId": "e394e530-bd18-4cde-c7b8-5a7d928456aa"
      },
      "execution_count": 8,
      "outputs": [
        {
          "output_type": "execute_result",
          "data": {
            "text/plain": [
              "47140.77808190236"
            ]
          },
          "metadata": {},
          "execution_count": 8
        }
      ]
    },
    {
      "cell_type": "code",
      "source": [
        "#                    2"
      ],
      "metadata": {
        "id": "YpfUSEoQTUfu"
      },
      "execution_count": 19,
      "outputs": []
    },
    {
      "cell_type": "code",
      "source": [
        "import numpy as np\n",
        "import matplotlib.pyplot as plt"
      ],
      "metadata": {
        "id": "q3285bizTinm"
      },
      "execution_count": 20,
      "outputs": []
    },
    {
      "cell_type": "code",
      "source": [
        "def func(x):\n",
        "  return(x**4)"
      ],
      "metadata": {
        "id": "wiGDy4zaTsH-"
      },
      "execution_count": 22,
      "outputs": []
    },
    {
      "cell_type": "code",
      "source": [
        "h=0.3\n",
        "min=0\n",
        "max=18\n",
        "x=np.arange(min,max,h)"
      ],
      "metadata": {
        "id": "iQ87SijwTvb9"
      },
      "execution_count": 24,
      "outputs": []
    },
    {
      "cell_type": "code",
      "source": [
        "def diff_noqtede(f,x,h):\n",
        "    derivative=(f(x+h)-f(x))/h\n",
        "    return derivative"
      ],
      "metadata": {
        "id": "g5tgBQvXT2xU"
      },
      "execution_count": 26,
      "outputs": []
    },
    {
      "cell_type": "code",
      "source": [
        "l=diff_noqtede(func,4,h)"
      ],
      "metadata": {
        "id": "DVYr2sFgUQGD"
      },
      "execution_count": 27,
      "outputs": []
    },
    {
      "cell_type": "code",
      "source": [
        "l"
      ],
      "metadata": {
        "colab": {
          "base_uri": "https://localhost:8080/"
        },
        "id": "CxS_PlefUbo3",
        "outputId": "170cfde8-9133-4abb-b970-ba027c893c7a"
      },
      "execution_count": 28,
      "outputs": [
        {
          "output_type": "execute_result",
          "data": {
            "text/plain": [
              "286.26699999999994"
            ]
          },
          "metadata": {},
          "execution_count": 28
        }
      ]
    },
    {
      "cell_type": "code",
      "source": [
        "plt.plot(l)\n",
        "plt.xlabel('x')\n",
        "plt.ylabel('derivative')"
      ],
      "metadata": {
        "colab": {
          "base_uri": "https://localhost:8080/",
          "height": 296
        },
        "id": "0hxl5c9eUc1v",
        "outputId": "d6088c8c-bec7-4cce-bc77-9df2041d601b"
      },
      "execution_count": 30,
      "outputs": [
        {
          "output_type": "execute_result",
          "data": {
            "text/plain": [
              "Text(0, 0.5, 'derivative')"
            ]
          },
          "metadata": {},
          "execution_count": 30
        },
        {
          "output_type": "display_data",
          "data": {
            "text/plain": [
              "<Figure size 432x288 with 1 Axes>"
            ],
            "image/png": "[encoded data removed]"
          },
          "metadata": {
            "needs_background": "light"
          }
        }
      ]
    },
    {
      "cell_type": "code",
      "source": [],
      "metadata": {
        "id": "3Q-6vxt3UimP"
      },
      "execution_count": null,
      "outputs": []
    }
  ]
}